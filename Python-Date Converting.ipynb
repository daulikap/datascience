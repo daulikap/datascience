{
 "cells": [
  {
   "cell_type": "code",
   "execution_count": 1,
   "metadata": {},
   "outputs": [
    {
     "name": "stdout",
     "output_type": "stream",
     "text": [
      "Masukan Nama: Daulika\n",
      "Masukan Email: daulikap@gmail.com\n",
      "Masukan tanggal lahir (DD-MM-YYYY): 15-08-1998\n"
     ]
    }
   ],
   "source": [
    "# Masukan Data\n",
    "nama = input(\"Masukan Nama: \")\n",
    "email = input(\"Masukan Email: \")\n",
    "tgl_lahir = input(\"Masukan tanggal lahir (DD-MM-YYYY): \")"
   ]
  },
  {
   "cell_type": "code",
   "execution_count": 2,
   "metadata": {},
   "outputs": [
    {
     "name": "stdout",
     "output_type": "stream",
     "text": [
      "========================================================\n",
      "Nama Anda : Daulika\n",
      "Email Anda : daulikap@gmail.com\n",
      "Usia Anda: 23 Tahun -6 Bulan\n"
     ]
    }
   ],
   "source": [
    "# Pengolahan tanggal lahir menjadi umur\n",
    "from datetime import datetime\n",
    "tgl_lahir = datetime.strptime(tgl_lahir, '%d-%m-%Y')\n",
    "sekarang = datetime.now()\n",
    "usia_tahun = sekarang.year-tgl_lahir.year\n",
    "usia_bulan = sekarang.month-tgl_lahir.month\n",
    "\n",
    "# Keluaran Data\n",
    "print (\"========================================================\")\n",
    "print (\"Nama Anda : \"+ nama)\n",
    "print (\"Email Anda : \"+ email)\n",
    "usia =\"%d Tahun %d Bulan\" % (usia_tahun,usia_bulan)\n",
    "print(\"Usia Anda: \"+ usia)"
   ]
  },
  {
   "cell_type": "code",
   "execution_count": null,
   "metadata": {},
   "outputs": [],
   "source": []
  }
 ],
 "metadata": {
  "kernelspec": {
   "display_name": "Python 3",
   "language": "python",
   "name": "python3"
  },
  "language_info": {
   "codemirror_mode": {
    "name": "ipython",
    "version": 3
   },
   "file_extension": ".py",
   "mimetype": "text/x-python",
   "name": "python",
   "nbconvert_exporter": "python",
   "pygments_lexer": "ipython3",
   "version": "3.8.3"
  }
 },
 "nbformat": 4,
 "nbformat_minor": 4
}
